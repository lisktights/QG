{
 "cells": [
  {
   "cell_type": "markdown",
   "id": "6a5116ee-6249-4db7-9908-623f80c66404",
   "metadata": {},
   "source": [
    "# QG训练营AI组第一周周记：\n",
    "2024年3月17日\n",
    "\n",
    "## 生活随记\n",
    "\\\n",
    "这几天睡得比较晚，起的也比较晚。\\\n",
    "anaconda的安装是我这几天挺折磨的一个事，看网上的教程说官网下载太慢，一开始就没去官网，结果在别的地方下载总是运行不了程序（*还是自己懂得太少了*）。  \n",
    "最后虽然成功了，但浪费了不少时间。\n",
    "\n",
    "\n",
    "## 一周总结\n",
    "\\\n",
    "在训练营没开始之前，只是跟着学校的课程进度学习，时间还算充裕;  \n",
    "训练营开始后，因为自己是0基础，其实还是有些焦虑的，只能从现在开始尽力赶上。  \n",
    "这周还没有完全适应节奏，显得有些手忙脚乱，相信接下来会有所进步的。\n",
    "\n",
    "## 存在问题\n",
    "\\\n",
    "**作息太不规律了，要调整作息了！！**\n",
    "\n",
    "## 下周规划\n",
    "\n",
    "1. 在日间完成课程任务，跟上学校学业进度，维持绩点。\n",
    "2. 在夜间学习训练营任务，提早进行学习。\n",
    "\n",
    "---\n"
   ]
  },
  {
   "cell_type": "code",
   "execution_count": null,
   "id": "d3f5368e-de78-4b87-900b-a23e87e22fa2",
   "metadata": {},
   "outputs": [],
   "source": []
  }
 ],
 "metadata": {
  "kernelspec": {
   "display_name": "Python 3 (ipykernel)",
   "language": "python",
   "name": "python3"
  },
  "language_info": {
   "codemirror_mode": {
    "name": "ipython",
    "version": 3
   },
   "file_extension": ".py",
   "mimetype": "text/x-python",
   "name": "python",
   "nbconvert_exporter": "python",
   "pygments_lexer": "ipython3",
   "version": "3.11.7"
  }
 },
 "nbformat": 4,
 "nbformat_minor": 5
}
